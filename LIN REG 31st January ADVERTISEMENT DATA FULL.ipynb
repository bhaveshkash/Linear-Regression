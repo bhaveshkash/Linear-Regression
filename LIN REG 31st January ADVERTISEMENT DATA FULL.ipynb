{
 "cells": [
  {
   "cell_type": "code",
   "execution_count": 1,
   "metadata": {},
   "outputs": [],
   "source": [
    "# imports\n",
    "import pandas as pd\n",
    "import numpy as np\n",
    "import matplotlib.pyplot as plt\n",
    "import seaborn as sns\n"
   ]
  },
  {
   "cell_type": "code",
   "execution_count": 2,
   "metadata": {},
   "outputs": [
    {
     "data": {
      "text/html": [
       "<div>\n",
       "<style scoped>\n",
       "    .dataframe tbody tr th:only-of-type {\n",
       "        vertical-align: middle;\n",
       "    }\n",
       "\n",
       "    .dataframe tbody tr th {\n",
       "        vertical-align: top;\n",
       "    }\n",
       "\n",
       "    .dataframe thead th {\n",
       "        text-align: right;\n",
       "    }\n",
       "</style>\n",
       "<table border=\"1\" class=\"dataframe\">\n",
       "  <thead>\n",
       "    <tr style=\"text-align: right;\">\n",
       "      <th></th>\n",
       "      <th>TV</th>\n",
       "      <th>radio</th>\n",
       "      <th>newspaper</th>\n",
       "      <th>sales</th>\n",
       "    </tr>\n",
       "  </thead>\n",
       "  <tbody>\n",
       "    <tr>\n",
       "      <th>1</th>\n",
       "      <td>230.1</td>\n",
       "      <td>37.8</td>\n",
       "      <td>69.2</td>\n",
       "      <td>22.1</td>\n",
       "    </tr>\n",
       "    <tr>\n",
       "      <th>2</th>\n",
       "      <td>44.5</td>\n",
       "      <td>39.3</td>\n",
       "      <td>45.1</td>\n",
       "      <td>10.4</td>\n",
       "    </tr>\n",
       "    <tr>\n",
       "      <th>3</th>\n",
       "      <td>17.2</td>\n",
       "      <td>45.9</td>\n",
       "      <td>69.3</td>\n",
       "      <td>9.3</td>\n",
       "    </tr>\n",
       "    <tr>\n",
       "      <th>4</th>\n",
       "      <td>151.5</td>\n",
       "      <td>41.3</td>\n",
       "      <td>58.5</td>\n",
       "      <td>18.5</td>\n",
       "    </tr>\n",
       "    <tr>\n",
       "      <th>5</th>\n",
       "      <td>180.8</td>\n",
       "      <td>10.8</td>\n",
       "      <td>58.4</td>\n",
       "      <td>12.9</td>\n",
       "    </tr>\n",
       "  </tbody>\n",
       "</table>\n",
       "</div>"
      ],
      "text/plain": [
       "      TV  radio  newspaper  sales\n",
       "1  230.1   37.8       69.2   22.1\n",
       "2   44.5   39.3       45.1   10.4\n",
       "3   17.2   45.9       69.3    9.3\n",
       "4  151.5   41.3       58.5   18.5\n",
       "5  180.8   10.8       58.4   12.9"
      ]
     },
     "execution_count": 2,
     "metadata": {},
     "output_type": "execute_result"
    }
   ],
   "source": [
    "# read data into a DataFrame\n",
    "data = pd.read_csv(r'C:\\Users\\BHAVESH\\IMARTICUS PYTHON TUTORIALS\\LINEAR REGRESSION ADVERTISEMENT\\Advertising.csv', index_col=0,header=0)\n",
    "data.head()"
   ]
  },
  {
   "cell_type": "code",
   "execution_count": 3,
   "metadata": {
    "scrolled": false
   },
   "outputs": [
    {
     "name": "stdout",
     "output_type": "stream",
     "text": [
      "TV           float64\n",
      "radio        float64\n",
      "newspaper    float64\n",
      "sales        float64\n",
      "dtype: object\n",
      "(200, 4)\n",
      "               TV       radio   newspaper       sales\n",
      "count  200.000000  200.000000  200.000000  200.000000\n",
      "mean   147.042500   23.264000   30.554000   14.022500\n",
      "std     85.854236   14.846809   21.778621    5.217457\n",
      "min      0.700000    0.000000    0.300000    1.600000\n",
      "25%     74.375000    9.975000   12.750000   10.375000\n",
      "50%    149.750000   22.900000   25.750000   12.900000\n",
      "75%    218.825000   36.525000   45.100000   17.400000\n",
      "max    296.400000   49.600000  114.000000   27.000000\n"
     ]
    }
   ],
   "source": [
    "print(data.dtypes)\n",
    "print(data.shape)\n",
    "print(data.describe())"
   ]
  },
  {
   "cell_type": "code",
   "execution_count": 4,
   "metadata": {},
   "outputs": [
    {
     "data": {
      "text/plain": [
       "TV           0\n",
       "radio        0\n",
       "newspaper    0\n",
       "sales        0\n",
       "dtype: int64"
      ]
     },
     "execution_count": 4,
     "metadata": {},
     "output_type": "execute_result"
    }
   ],
   "source": [
    "data.isnull().sum()"
   ]
  },
  {
   "cell_type": "code",
   "execution_count": 5,
   "metadata": {},
   "outputs": [
    {
     "data": {
      "image/png": "[encoded data removed]",
      "text/plain": [
       "<Figure size 432x288 with 1 Axes>"
      ]
     },
     "metadata": {
      "needs_background": "light"
     },
     "output_type": "display_data"
    },
    {
     "data": {
      "image/png": "[encoded data removed]",
      "text/plain": [
       "<Figure size 432x288 with 1 Axes>"
      ]
     },
     "metadata": {
      "needs_background": "light"
     },
     "output_type": "display_data"
    },
    {
     "data": {
      "image/png": "[encoded data removed]",
      "text/plain": [
       "<Figure size 432x288 with 1 Axes>"
      ]
     },
     "metadata": {
      "needs_background": "light"
     },
     "output_type": "display_data"
    },
    {
     "data": {
      "image/png": "[encoded data removed]",
      "text/plain": [
       "<Figure size 432x288 with 1 Axes>"
      ]
     },
     "metadata": {
      "needs_background": "light"
     },
     "output_type": "display_data"
    }
   ],
   "source": [
    "#Assumption 1: There should be no outliers in the data. Check using boxplot.\n",
    "for i in data.columns:\n",
    "    data.boxplot(column=i)\n",
    "    plt.show()"
   ]
  },
  {
   "cell_type": "code",
   "execution_count": 6,
   "metadata": {},
   "outputs": [
    {
     "data": {
      "text/plain": [
       "<Figure size 2160x1080 with 0 Axes>"
      ]
     },
     "metadata": {},
     "output_type": "display_data"
    },
    {
     "data": {
      "image/png": "[encoded data removed]",
      "text/plain": [
       "<Figure size 540x180 with 3 Axes>"
      ]
     },
     "metadata": {
      "needs_background": "light"
     },
     "output_type": "display_data"
    }
   ],
   "source": [
    "#Assumption 2:Assumption of Linearity:Every ind var should have a linear relationship with the dep var.\n",
    "plt.figure(figsize=(30,15))\n",
    "sns.pairplot(data,x_vars=data.columns[0:-1],y_vars=\"sales\",\n",
    "             kind='reg')\n",
    "plt.show()"
   ]
  },
  {
   "cell_type": "code",
   "execution_count": 7,
   "metadata": {},
   "outputs": [
    {
     "data": {
      "text/plain": [
       "Index(['TV', 'radio', 'newspaper'], dtype='object')"
      ]
     },
     "execution_count": 7,
     "metadata": {},
     "output_type": "execute_result"
    }
   ],
   "source": [
    "data.columns[0:-1]"
   ]
  },
  {
   "cell_type": "code",
   "execution_count": 8,
   "metadata": {},
   "outputs": [],
   "source": [
    "# create X and Y\n",
    "X = data[['TV', 'radio', 'newspaper']]\n",
    "Y = data['sales']\n",
    "#X=data.iloc[:,0:-1]"
   ]
  },
  {
   "cell_type": "code",
   "execution_count": 9,
   "metadata": {},
   "outputs": [
    {
     "data": {
      "text/plain": [
       "<matplotlib.axes._subplots.AxesSubplot at 0x1bfaff42a30>"
      ]
     },
     "execution_count": 9,
     "metadata": {},
     "output_type": "execute_result"
    },
    {
     "data": {
      "image/png": "[encoded data removed]",
      "text/plain": [
       "<Figure size 432x288 with 1 Axes>"
      ]
     },
     "metadata": {
      "needs_background": "light"
     },
     "output_type": "display_data"
    }
   ],
   "source": [
    "#Assumption of Normality: The dependent variable should follow an approximate normal distribtion\n",
    "sns.distplot(Y,hist=True)"
   ]
  },
  {
   "cell_type": "code",
   "execution_count": 10,
   "metadata": {},
   "outputs": [
    {
     "data": {
      "text/plain": [
       "'\\n# Log transformation\\nimport numpy as np\\nY_log  = np.log(Y)\\n'"
      ]
     },
     "execution_count": 10,
     "metadata": {},
     "output_type": "execute_result"
    }
   ],
   "source": [
    "\"\"\"\n",
    "# Log transformation\n",
    "import numpy as np\n",
    "Y_log  = np.log(Y)\n",
    "\"\"\""
   ]
  },
  {
   "cell_type": "code",
   "execution_count": 11,
   "metadata": {},
   "outputs": [],
   "source": [
    "#sns.distplot(Y_log,hist=True)"
   ]
  },
  {
   "cell_type": "code",
   "execution_count": 12,
   "metadata": {},
   "outputs": [
    {
     "data": {
      "text/plain": [
       "array([[<matplotlib.axes._subplots.AxesSubplot object at 0x000001BFAFFC0CA0>,\n",
       "        <matplotlib.axes._subplots.AxesSubplot object at 0x000001BFAFFDDE50>],\n",
       "       [<matplotlib.axes._subplots.AxesSubplot object at 0x000001BFB0015280>,\n",
       "        <matplotlib.axes._subplots.AxesSubplot object at 0x000001BFB0042700>]],\n",
       "      dtype=object)"
      ]
     },
     "execution_count": 12,
     "metadata": {},
     "output_type": "execute_result"
    },
    {
     "data": {
      "image/png": "[encoded data removed]",
      "text/plain": [
       "<Figure size 432x288 with 4 Axes>"
      ]
     },
     "metadata": {
      "needs_background": "light"
     },
     "output_type": "display_data"
    }
   ],
   "source": [
    "X.hist(bins=20)"
   ]
  },
  {
   "cell_type": "code",
   "execution_count": 13,
   "metadata": {},
   "outputs": [
    {
     "name": "stdout",
     "output_type": "stream",
     "text": [
      "TV          -0.069328\n",
      "radio        0.093467\n",
      "newspaper    0.887996\n",
      "dtype: float64\n",
      "newspaper    0.887996\n",
      "dtype: float64\n"
     ]
    },
    {
     "name": "stderr",
     "output_type": "stream",
     "text": [
      "D:\\FILES\\lib\\site-packages\\pandas\\core\\frame.py:2963: SettingWithCopyWarning: \n",
      "A value is trying to be set on a copy of a slice from a DataFrame.\n",
      "Try using .loc[row_indexer,col_indexer] = value instead\n",
      "\n",
      "See the caveats in the documentation: https://pandas.pydata.org/pandas-docs/stable/user_guide/indexing.html#returning-a-view-versus-a-copy\n",
      "  self[k1] = value[k2]\n"
     ]
    }
   ],
   "source": [
    "from scipy.stats import skew\n",
    "#finding the skewness in each variable\n",
    "data_num_skew = X.apply(lambda i: skew(i.dropna()))\n",
    "#subsetting the variables that are highly skewed\n",
    "data_num_skewed = data_num_skew[(data_num_skew > .75) | (data_num_skew < -.75)]\n",
    "\n",
    "print(data_num_skew)\n",
    "print(data_num_skewed)\n",
    "import numpy as np\n",
    "# apply log + 1 transformation for all numeric features with skewness over .75\n",
    "X[data_num_skewed.index] = np.log1p(X[data_num_skewed.index])"
   ]
  },
  {
   "cell_type": "code",
   "execution_count": 14,
   "metadata": {
    "scrolled": true
   },
   "outputs": [
    {
     "name": "stdout",
     "output_type": "stream",
     "text": [
      "                 TV     radio  newspaper\n",
      "TV         1.000000  0.054809   0.030951\n",
      "radio      0.054809  1.000000   0.251909\n",
      "newspaper  0.030951  0.251909   1.000000\n"
     ]
    },
    {
     "data": {
      "text/plain": [
       "<matplotlib.axes._subplots.AxesSubplot at 0x1bfb0246670>"
      ]
     },
     "execution_count": 14,
     "metadata": {},
     "output_type": "execute_result"
    },
    {
     "data": {
      "image/png": "[encoded data removed]",
      "text/plain": [
       "<Figure size 432x288 with 2 Axes>"
      ]
     },
     "metadata": {
      "needs_background": "light"
     },
     "output_type": "display_data"
    }
   ],
   "source": [
    "#Assumption of no multicollinearity: There should be no multicollinearity between the independent variables\n",
    "corr_df=X.corr(method=\"pearson\")\n",
    "print(corr_df)\n",
    "\n",
    "sns.heatmap(corr_df,vmax=1.0,vmin=-1.0,annot=True)"
   ]
  },
  {
   "cell_type": "code",
   "execution_count": 15,
   "metadata": {
    "scrolled": false
   },
   "outputs": [
    {
     "data": {
      "text/html": [
       "<div>\n",
       "<style scoped>\n",
       "    .dataframe tbody tr th:only-of-type {\n",
       "        vertical-align: middle;\n",
       "    }\n",
       "\n",
       "    .dataframe tbody tr th {\n",
       "        vertical-align: top;\n",
       "    }\n",
       "\n",
       "    .dataframe thead th {\n",
       "        text-align: right;\n",
       "    }\n",
       "</style>\n",
       "<table border=\"1\" class=\"dataframe\">\n",
       "  <thead>\n",
       "    <tr style=\"text-align: right;\">\n",
       "      <th></th>\n",
       "      <th>features</th>\n",
       "      <th>VIF Factor</th>\n",
       "    </tr>\n",
       "  </thead>\n",
       "  <tbody>\n",
       "    <tr>\n",
       "      <th>0</th>\n",
       "      <td>TV</td>\n",
       "      <td>3.39</td>\n",
       "    </tr>\n",
       "    <tr>\n",
       "      <th>1</th>\n",
       "      <td>radio</td>\n",
       "      <td>3.63</td>\n",
       "    </tr>\n",
       "    <tr>\n",
       "      <th>2</th>\n",
       "      <td>newspaper</td>\n",
       "      <td>5.44</td>\n",
       "    </tr>\n",
       "  </tbody>\n",
       "</table>\n",
       "</div>"
      ],
      "text/plain": [
       "    features  VIF Factor\n",
       "0         TV        3.39\n",
       "1      radio        3.63\n",
       "2  newspaper        5.44"
      ]
     },
     "execution_count": 15,
     "metadata": {},
     "output_type": "execute_result"
    }
   ],
   "source": [
    "from statsmodels.stats.outliers_influence import variance_inflation_factor as vif\n",
    "\n",
    "vif_df = pd.DataFrame()\n",
    "vif_df[\"features\"] = X.columns\n",
    "vif_df[\"VIF Factor\"] = [vif(X.values, i) for i in range(X.shape[1])]\n",
    "vif_df.round(2)\n"
   ]
  },
  {
   "cell_type": "code",
   "execution_count": 16,
   "metadata": {},
   "outputs": [],
   "source": [
    "#X.drop(\"newspaper\",axis=1,inplace=True)\n",
    "#rerun the VIF code"
   ]
  },
  {
   "cell_type": "code",
   "execution_count": 17,
   "metadata": {},
   "outputs": [],
   "source": [
    "from sklearn.model_selection import train_test_split\n",
    "\n",
    "#Split the data into test and train\n",
    "X_train, X_test, Y_train, Y_test = train_test_split(X, Y, test_size=0.2,\n",
    "                                                    random_state=10)  \n"
   ]
  },
  {
   "cell_type": "code",
   "execution_count": 18,
   "metadata": {},
   "outputs": [
    {
     "name": "stdout",
     "output_type": "stream",
     "text": [
      "(40,)\n"
     ]
    }
   ],
   "source": [
    "print(Y_test.shape)"
   ]
  },
  {
   "cell_type": "code",
   "execution_count": 19,
   "metadata": {},
   "outputs": [],
   "source": [
    "#>1000-->test_size=0.3\n",
    "#<1000-->test_size=0.2"
   ]
  },
  {
   "cell_type": "code",
   "execution_count": null,
   "metadata": {},
   "outputs": [],
   "source": []
  },
  {
   "cell_type": "code",
   "execution_count": 20,
   "metadata": {
    "scrolled": true
   },
   "outputs": [
    {
     "name": "stdout",
     "output_type": "stream",
     "text": [
      "3.3532913858151545\n",
      "[ 0.0437425   0.19303708 -0.04895137]\n"
     ]
    }
   ],
   "source": [
    "from sklearn.linear_model import LinearRegression\n",
    "#create a model object\n",
    "lm = LinearRegression()\n",
    "#train the model object\n",
    "lm.fit(X_train,Y_train)\n",
    "\n",
    "# print intercept and coefficients\n",
    "print (lm.intercept_)\n",
    "print (lm.coef_)\n",
    "\n"
   ]
  },
  {
   "cell_type": "code",
   "execution_count": 21,
   "metadata": {
    "scrolled": true
   },
   "outputs": [
    {
     "name": "stdout",
     "output_type": "stream",
     "text": [
      "[('TV', 0.04374250157742164), ('radio', 0.19303707897345299), ('newspaper', -0.04895136822248788)]\n"
     ]
    }
   ],
   "source": [
    "# pair the feature names with the coefficients\n",
    "print(list(zip(X.columns, lm.coef_)))"
   ]
  },
  {
   "cell_type": "code",
   "execution_count": 22,
   "metadata": {},
   "outputs": [
    {
     "name": "stdout",
     "output_type": "stream",
     "text": [
      "46.334957385815144\n"
     ]
    }
   ],
   "source": [
    "X1=100\n",
    "X2=200\n",
    "X3=np.log1p(0)\n",
    "Y_pred=3.3532913858151474+(0.0437425 *X1)+(0.19303708*X2)+(-0.04895137*X3)\n",
    "print(Y_pred)"
   ]
  },
  {
   "cell_type": "code",
   "execution_count": 23,
   "metadata": {
    "scrolled": true
   },
   "outputs": [
    {
     "name": "stdout",
     "output_type": "stream",
     "text": [
      "[18.15026866 12.96136899 18.05815332 23.66025079 20.68751041 14.26325872\n",
      " 14.92774472 21.38847375 21.14752911 12.75788534 23.99735583  7.20632737\n",
      " 12.30777109 19.22813333 19.41581583 13.44985803 19.62619644  9.24667496\n",
      " 21.1052867  20.87838433 15.52611251 10.91695579 22.82910679 15.82915597\n",
      " 17.40742204  8.17170435 11.88738387 12.69866637 21.71275044  7.94920205\n",
      " 12.49118989 20.43292079  4.71443086  4.72126238 16.7504848  15.74384945\n",
      "  6.74775596 17.73750244  9.01170001 13.60841593]\n"
     ]
    }
   ],
   "source": [
    "#predict using the model\n",
    "Y_pred=lm.predict(X_test)\n",
    "print(Y_pred)"
   ]
  },
  {
   "cell_type": "code",
   "execution_count": 24,
   "metadata": {},
   "outputs": [
    {
     "data": {
      "text/plain": [
       "0.9208986647500219"
      ]
     },
     "execution_count": 24,
     "metadata": {},
     "output_type": "execute_result"
    }
   ],
   "source": [
    "lm.score(X_train, Y_train)"
   ]
  },
  {
   "cell_type": "code",
   "execution_count": 25,
   "metadata": {},
   "outputs": [
    {
     "name": "stderr",
     "output_type": "stream",
     "text": [
      "<ipython-input-25-800c555ee937>:4: SettingWithCopyWarning: \n",
      "A value is trying to be set on a copy of a slice from a DataFrame.\n",
      "Try using .loc[row_indexer,col_indexer] = value instead\n",
      "\n",
      "See the caveats in the documentation: https://pandas.pydata.org/pandas-docs/stable/user_guide/indexing.html#returning-a-view-versus-a-copy\n",
      "  new_df[\"Actual sales\"]=Y_test\n",
      "<ipython-input-25-800c555ee937>:5: SettingWithCopyWarning: \n",
      "A value is trying to be set on a copy of a slice from a DataFrame.\n",
      "Try using .loc[row_indexer,col_indexer] = value instead\n",
      "\n",
      "See the caveats in the documentation: https://pandas.pydata.org/pandas-docs/stable/user_guide/indexing.html#returning-a-view-versus-a-copy\n",
      "  new_df[\"Predicted sales\"]=Y_pred\n"
     ]
    },
    {
     "data": {
      "text/html": [
       "<div>\n",
       "<style scoped>\n",
       "    .dataframe tbody tr th:only-of-type {\n",
       "        vertical-align: middle;\n",
       "    }\n",
       "\n",
       "    .dataframe tbody tr th {\n",
       "        vertical-align: top;\n",
       "    }\n",
       "\n",
       "    .dataframe thead th {\n",
       "        text-align: right;\n",
       "    }\n",
       "</style>\n",
       "<table border=\"1\" class=\"dataframe\">\n",
       "  <thead>\n",
       "    <tr style=\"text-align: right;\">\n",
       "      <th></th>\n",
       "      <th>TV</th>\n",
       "      <th>radio</th>\n",
       "      <th>newspaper</th>\n",
       "      <th>Actual sales</th>\n",
       "      <th>Predicted sales</th>\n",
       "    </tr>\n",
       "  </thead>\n",
       "  <tbody>\n",
       "    <tr>\n",
       "      <th>60</th>\n",
       "      <td>210.7</td>\n",
       "      <td>29.5</td>\n",
       "      <td>2.332144</td>\n",
       "      <td>18.4</td>\n",
       "      <td>18.150269</td>\n",
       "    </tr>\n",
       "    <tr>\n",
       "      <th>6</th>\n",
       "      <td>8.7</td>\n",
       "      <td>48.9</td>\n",
       "      <td>4.330733</td>\n",
       "      <td>7.2</td>\n",
       "      <td>12.961369</td>\n",
       "    </tr>\n",
       "    <tr>\n",
       "      <th>21</th>\n",
       "      <td>218.4</td>\n",
       "      <td>27.7</td>\n",
       "      <td>3.996364</td>\n",
       "      <td>18.0</td>\n",
       "      <td>18.058153</td>\n",
       "    </tr>\n",
       "    <tr>\n",
       "      <th>199</th>\n",
       "      <td>283.6</td>\n",
       "      <td>42.0</td>\n",
       "      <td>4.207673</td>\n",
       "      <td>25.5</td>\n",
       "      <td>23.660251</td>\n",
       "    </tr>\n",
       "    <tr>\n",
       "      <th>53</th>\n",
       "      <td>216.4</td>\n",
       "      <td>41.7</td>\n",
       "      <td>3.703768</td>\n",
       "      <td>22.6</td>\n",
       "      <td>20.687510</td>\n",
       "    </tr>\n",
       "    <tr>\n",
       "      <th>20</th>\n",
       "      <td>147.3</td>\n",
       "      <td>23.9</td>\n",
       "      <td>3.000720</td>\n",
       "      <td>14.6</td>\n",
       "      <td>14.263259</td>\n",
       "    </tr>\n",
       "    <tr>\n",
       "      <th>163</th>\n",
       "      <td>188.4</td>\n",
       "      <td>18.1</td>\n",
       "      <td>3.280911</td>\n",
       "      <td>14.9</td>\n",
       "      <td>14.927745</td>\n",
       "    </tr>\n",
       "    <tr>\n",
       "      <th>56</th>\n",
       "      <td>198.9</td>\n",
       "      <td>49.4</td>\n",
       "      <td>4.110874</td>\n",
       "      <td>23.7</td>\n",
       "      <td>21.388474</td>\n",
       "    </tr>\n",
       "    <tr>\n",
       "      <th>70</th>\n",
       "      <td>216.8</td>\n",
       "      <td>43.9</td>\n",
       "      <td>3.339322</td>\n",
       "      <td>22.3</td>\n",
       "      <td>21.147529</td>\n",
       "    </tr>\n",
       "    <tr>\n",
       "      <th>3</th>\n",
       "      <td>17.2</td>\n",
       "      <td>45.9</td>\n",
       "      <td>4.252772</td>\n",
       "      <td>9.3</td>\n",
       "      <td>12.757885</td>\n",
       "    </tr>\n",
       "    <tr>\n",
       "      <th>99</th>\n",
       "      <td>289.7</td>\n",
       "      <td>42.3</td>\n",
       "      <td>3.955082</td>\n",
       "      <td>25.4</td>\n",
       "      <td>23.997356</td>\n",
       "    </tr>\n",
       "    <tr>\n",
       "      <th>11</th>\n",
       "      <td>66.1</td>\n",
       "      <td>5.8</td>\n",
       "      <td>3.226844</td>\n",
       "      <td>8.6</td>\n",
       "      <td>7.206327</td>\n",
       "    </tr>\n",
       "    <tr>\n",
       "      <th>76</th>\n",
       "      <td>16.9</td>\n",
       "      <td>43.7</td>\n",
       "      <td>4.504244</td>\n",
       "      <td>8.7</td>\n",
       "      <td>12.307771</td>\n",
       "    </tr>\n",
       "    <tr>\n",
       "      <th>143</th>\n",
       "      <td>220.5</td>\n",
       "      <td>33.2</td>\n",
       "      <td>3.660994</td>\n",
       "      <td>20.1</td>\n",
       "      <td>19.228133</td>\n",
       "    </tr>\n",
       "    <tr>\n",
       "      <th>125</th>\n",
       "      <td>229.5</td>\n",
       "      <td>32.3</td>\n",
       "      <td>4.320151</td>\n",
       "      <td>19.7</td>\n",
       "      <td>19.415816</td>\n",
       "    </tr>\n",
       "    <tr>\n",
       "      <th>64</th>\n",
       "      <td>102.7</td>\n",
       "      <td>29.6</td>\n",
       "      <td>2.240710</td>\n",
       "      <td>14.0</td>\n",
       "      <td>13.449858</td>\n",
       "    </tr>\n",
       "    <tr>\n",
       "      <th>110</th>\n",
       "      <td>255.4</td>\n",
       "      <td>26.9</td>\n",
       "      <td>1.871802</td>\n",
       "      <td>19.8</td>\n",
       "      <td>19.626196</td>\n",
       "    </tr>\n",
       "    <tr>\n",
       "      <th>79</th>\n",
       "      <td>5.4</td>\n",
       "      <td>29.9</td>\n",
       "      <td>2.341806</td>\n",
       "      <td>5.3</td>\n",
       "      <td>9.246675</td>\n",
       "    </tr>\n",
       "    <tr>\n",
       "      <th>112</th>\n",
       "      <td>241.7</td>\n",
       "      <td>38.0</td>\n",
       "      <td>3.186353</td>\n",
       "      <td>21.8</td>\n",
       "      <td>21.105287</td>\n",
       "    </tr>\n",
       "    <tr>\n",
       "      <th>186</th>\n",
       "      <td>205.0</td>\n",
       "      <td>45.1</td>\n",
       "      <td>3.025291</td>\n",
       "      <td>22.6</td>\n",
       "      <td>20.878384</td>\n",
       "    </tr>\n",
       "    <tr>\n",
       "      <th>155</th>\n",
       "      <td>187.8</td>\n",
       "      <td>21.1</td>\n",
       "      <td>2.351375</td>\n",
       "      <td>15.6</td>\n",
       "      <td>15.526113</td>\n",
       "    </tr>\n",
       "    <tr>\n",
       "      <th>131</th>\n",
       "      <td>0.7</td>\n",
       "      <td>39.6</td>\n",
       "      <td>2.272126</td>\n",
       "      <td>1.6</td>\n",
       "      <td>10.916956</td>\n",
       "    </tr>\n",
       "    <tr>\n",
       "      <th>62</th>\n",
       "      <td>261.3</td>\n",
       "      <td>42.7</td>\n",
       "      <td>4.019980</td>\n",
       "      <td>24.2</td>\n",
       "      <td>22.829107</td>\n",
       "    </tr>\n",
       "    <tr>\n",
       "      <th>88</th>\n",
       "      <td>110.7</td>\n",
       "      <td>40.6</td>\n",
       "      <td>4.162003</td>\n",
       "      <td>16.0</td>\n",
       "      <td>15.829156</td>\n",
       "    </tr>\n",
       "    <tr>\n",
       "      <th>103</th>\n",
       "      <td>280.2</td>\n",
       "      <td>10.1</td>\n",
       "      <td>3.109061</td>\n",
       "      <td>14.8</td>\n",
       "      <td>17.407422</td>\n",
       "    </tr>\n",
       "    <tr>\n",
       "      <th>122</th>\n",
       "      <td>18.8</td>\n",
       "      <td>21.7</td>\n",
       "      <td>3.939638</td>\n",
       "      <td>7.0</td>\n",
       "      <td>8.171704</td>\n",
       "    </tr>\n",
       "    <tr>\n",
       "      <th>137</th>\n",
       "      <td>25.6</td>\n",
       "      <td>39.0</td>\n",
       "      <td>2.332144</td>\n",
       "      <td>9.5</td>\n",
       "      <td>11.887384</td>\n",
       "    </tr>\n",
       "    <tr>\n",
       "      <th>2</th>\n",
       "      <td>44.5</td>\n",
       "      <td>39.3</td>\n",
       "      <td>3.830813</td>\n",
       "      <td>10.4</td>\n",
       "      <td>12.698666</td>\n",
       "    </tr>\n",
       "    <tr>\n",
       "      <th>48</th>\n",
       "      <td>239.9</td>\n",
       "      <td>41.5</td>\n",
       "      <td>2.970414</td>\n",
       "      <td>23.2</td>\n",
       "      <td>21.712750</td>\n",
       "    </tr>\n",
       "    <tr>\n",
       "      <th>173</th>\n",
       "      <td>19.6</td>\n",
       "      <td>20.1</td>\n",
       "      <td>2.890372</td>\n",
       "      <td>7.6</td>\n",
       "      <td>7.949202</td>\n",
       "    </tr>\n",
       "    <tr>\n",
       "      <th>160</th>\n",
       "      <td>131.7</td>\n",
       "      <td>18.4</td>\n",
       "      <td>3.572346</td>\n",
       "      <td>12.9</td>\n",
       "      <td>12.491190</td>\n",
       "    </tr>\n",
       "    <tr>\n",
       "      <th>40</th>\n",
       "      <td>228.0</td>\n",
       "      <td>37.7</td>\n",
       "      <td>3.496508</td>\n",
       "      <td>21.5</td>\n",
       "      <td>20.432921</td>\n",
       "    </tr>\n",
       "    <tr>\n",
       "      <th>77</th>\n",
       "      <td>27.5</td>\n",
       "      <td>1.6</td>\n",
       "      <td>3.077312</td>\n",
       "      <td>6.9</td>\n",
       "      <td>4.714431</td>\n",
       "    </tr>\n",
       "    <tr>\n",
       "      <th>92</th>\n",
       "      <td>28.6</td>\n",
       "      <td>1.5</td>\n",
       "      <td>3.526361</td>\n",
       "      <td>7.3</td>\n",
       "      <td>4.721262</td>\n",
       "    </tr>\n",
       "    <tr>\n",
       "      <th>36</th>\n",
       "      <td>290.7</td>\n",
       "      <td>4.1</td>\n",
       "      <td>2.251292</td>\n",
       "      <td>12.8</td>\n",
       "      <td>16.750485</td>\n",
       "    </tr>\n",
       "    <tr>\n",
       "      <th>179</th>\n",
       "      <td>276.7</td>\n",
       "      <td>2.3</td>\n",
       "      <td>3.206803</td>\n",
       "      <td>11.8</td>\n",
       "      <td>15.743849</td>\n",
       "    </tr>\n",
       "    <tr>\n",
       "      <th>128</th>\n",
       "      <td>80.2</td>\n",
       "      <td>0.0</td>\n",
       "      <td>2.322388</td>\n",
       "      <td>8.8</td>\n",
       "      <td>6.747756</td>\n",
       "    </tr>\n",
       "    <tr>\n",
       "      <th>170</th>\n",
       "      <td>284.3</td>\n",
       "      <td>10.6</td>\n",
       "      <td>2.001480</td>\n",
       "      <td>15.0</td>\n",
       "      <td>17.737502</td>\n",
       "    </tr>\n",
       "    <tr>\n",
       "      <th>47</th>\n",
       "      <td>89.7</td>\n",
       "      <td>9.9</td>\n",
       "      <td>3.602777</td>\n",
       "      <td>10.6</td>\n",
       "      <td>9.011700</td>\n",
       "    </tr>\n",
       "    <tr>\n",
       "      <th>175</th>\n",
       "      <td>222.4</td>\n",
       "      <td>3.4</td>\n",
       "      <td>2.646175</td>\n",
       "      <td>11.5</td>\n",
       "      <td>13.608416</td>\n",
       "    </tr>\n",
       "  </tbody>\n",
       "</table>\n",
       "</div>"
      ],
      "text/plain": [
       "        TV  radio  newspaper  Actual sales  Predicted sales\n",
       "60   210.7   29.5   2.332144          18.4        18.150269\n",
       "6      8.7   48.9   4.330733           7.2        12.961369\n",
       "21   218.4   27.7   3.996364          18.0        18.058153\n",
       "199  283.6   42.0   4.207673          25.5        23.660251\n",
       "53   216.4   41.7   3.703768          22.6        20.687510\n",
       "20   147.3   23.9   3.000720          14.6        14.263259\n",
       "163  188.4   18.1   3.280911          14.9        14.927745\n",
       "56   198.9   49.4   4.110874          23.7        21.388474\n",
       "70   216.8   43.9   3.339322          22.3        21.147529\n",
       "3     17.2   45.9   4.252772           9.3        12.757885\n",
       "99   289.7   42.3   3.955082          25.4        23.997356\n",
       "11    66.1    5.8   3.226844           8.6         7.206327\n",
       "76    16.9   43.7   4.504244           8.7        12.307771\n",
       "143  220.5   33.2   3.660994          20.1        19.228133\n",
       "125  229.5   32.3   4.320151          19.7        19.415816\n",
       "64   102.7   29.6   2.240710          14.0        13.449858\n",
       "110  255.4   26.9   1.871802          19.8        19.626196\n",
       "79     5.4   29.9   2.341806           5.3         9.246675\n",
       "112  241.7   38.0   3.186353          21.8        21.105287\n",
       "186  205.0   45.1   3.025291          22.6        20.878384\n",
       "155  187.8   21.1   2.351375          15.6        15.526113\n",
       "131    0.7   39.6   2.272126           1.6        10.916956\n",
       "62   261.3   42.7   4.019980          24.2        22.829107\n",
       "88   110.7   40.6   4.162003          16.0        15.829156\n",
       "103  280.2   10.1   3.109061          14.8        17.407422\n",
       "122   18.8   21.7   3.939638           7.0         8.171704\n",
       "137   25.6   39.0   2.332144           9.5        11.887384\n",
       "2     44.5   39.3   3.830813          10.4        12.698666\n",
       "48   239.9   41.5   2.970414          23.2        21.712750\n",
       "173   19.6   20.1   2.890372           7.6         7.949202\n",
       "160  131.7   18.4   3.572346          12.9        12.491190\n",
       "40   228.0   37.7   3.496508          21.5        20.432921\n",
       "77    27.5    1.6   3.077312           6.9         4.714431\n",
       "92    28.6    1.5   3.526361           7.3         4.721262\n",
       "36   290.7    4.1   2.251292          12.8        16.750485\n",
       "179  276.7    2.3   3.206803          11.8        15.743849\n",
       "128   80.2    0.0   2.322388           8.8         6.747756\n",
       "170  284.3   10.6   2.001480          15.0        17.737502\n",
       "47    89.7    9.9   3.602777          10.6         9.011700\n",
       "175  222.4    3.4   2.646175          11.5        13.608416"
      ]
     },
     "execution_count": 25,
     "metadata": {},
     "output_type": "execute_result"
    }
   ],
   "source": [
    "new_df=pd.DataFrame()\n",
    "new_df=X_test\n",
    "\n",
    "new_df[\"Actual sales\"]=Y_test\n",
    "new_df[\"Predicted sales\"]=Y_pred\n",
    "new_df\n"
   ]
  },
  {
   "cell_type": "code",
   "execution_count": 26,
   "metadata": {},
   "outputs": [
    {
     "name": "stdout",
     "output_type": "stream",
     "text": [
      "R-squared: 0.8348010719035319\n",
      "2.5929769110930607\n",
      "0.8322725168816472\n"
     ]
    }
   ],
   "source": [
    "from sklearn.metrics import r2_score,mean_squared_error\n",
    "import numpy as np\n",
    "\n",
    "r2=r2_score(Y_test,Y_pred)\n",
    "print(\"R-squared:\",r2)\n",
    "\n",
    "rmse=np.sqrt(mean_squared_error(Y_test,Y_pred))\n",
    "print(rmse)\n",
    "\n",
    "adjusted_r_squared = 1 - (1-r2)*(len(Y)-1)/(len(Y)-X.shape[1]-1)\n",
    "print(adjusted_r_squared)"
   ]
  },
  {
   "cell_type": "code",
   "execution_count": 27,
   "metadata": {
    "scrolled": true
   },
   "outputs": [
    {
     "name": "stdout",
     "output_type": "stream",
     "text": [
      "1.6\n",
      "25.5\n"
     ]
    }
   ],
   "source": [
    "print(Y_test.min())\n",
    "print(Y_test.max())      "
   ]
  },
  {
   "cell_type": "code",
   "execution_count": 28,
   "metadata": {},
   "outputs": [
    {
     "name": "stderr",
     "output_type": "stream",
     "text": [
      "<ipython-input-28-eee6ee6771af>:1: SettingWithCopyWarning: \n",
      "A value is trying to be set on a copy of a slice from a DataFrame.\n",
      "Try using .loc[row_indexer,col_indexer] = value instead\n",
      "\n",
      "See the caveats in the documentation: https://pandas.pydata.org/pandas-docs/stable/user_guide/indexing.html#returning-a-view-versus-a-copy\n",
      "  new_df[\"Deviation\"]=new_df[\"Actual sales\"]-new_df[\"Predicted sales\"]\n"
     ]
    },
    {
     "data": {
      "text/html": [
       "<div>\n",
       "<style scoped>\n",
       "    .dataframe tbody tr th:only-of-type {\n",
       "        vertical-align: middle;\n",
       "    }\n",
       "\n",
       "    .dataframe tbody tr th {\n",
       "        vertical-align: top;\n",
       "    }\n",
       "\n",
       "    .dataframe thead th {\n",
       "        text-align: right;\n",
       "    }\n",
       "</style>\n",
       "<table border=\"1\" class=\"dataframe\">\n",
       "  <thead>\n",
       "    <tr style=\"text-align: right;\">\n",
       "      <th></th>\n",
       "      <th>TV</th>\n",
       "      <th>radio</th>\n",
       "      <th>newspaper</th>\n",
       "      <th>Actual sales</th>\n",
       "      <th>Predicted sales</th>\n",
       "      <th>Deviation</th>\n",
       "    </tr>\n",
       "  </thead>\n",
       "  <tbody>\n",
       "    <tr>\n",
       "      <th>60</th>\n",
       "      <td>210.7</td>\n",
       "      <td>29.5</td>\n",
       "      <td>2.332144</td>\n",
       "      <td>18.4</td>\n",
       "      <td>18.150269</td>\n",
       "      <td>0.249731</td>\n",
       "    </tr>\n",
       "    <tr>\n",
       "      <th>6</th>\n",
       "      <td>8.7</td>\n",
       "      <td>48.9</td>\n",
       "      <td>4.330733</td>\n",
       "      <td>7.2</td>\n",
       "      <td>12.961369</td>\n",
       "      <td>-5.761369</td>\n",
       "    </tr>\n",
       "    <tr>\n",
       "      <th>21</th>\n",
       "      <td>218.4</td>\n",
       "      <td>27.7</td>\n",
       "      <td>3.996364</td>\n",
       "      <td>18.0</td>\n",
       "      <td>18.058153</td>\n",
       "      <td>-0.058153</td>\n",
       "    </tr>\n",
       "    <tr>\n",
       "      <th>199</th>\n",
       "      <td>283.6</td>\n",
       "      <td>42.0</td>\n",
       "      <td>4.207673</td>\n",
       "      <td>25.5</td>\n",
       "      <td>23.660251</td>\n",
       "      <td>1.839749</td>\n",
       "    </tr>\n",
       "    <tr>\n",
       "      <th>53</th>\n",
       "      <td>216.4</td>\n",
       "      <td>41.7</td>\n",
       "      <td>3.703768</td>\n",
       "      <td>22.6</td>\n",
       "      <td>20.687510</td>\n",
       "      <td>1.912490</td>\n",
       "    </tr>\n",
       "  </tbody>\n",
       "</table>\n",
       "</div>"
      ],
      "text/plain": [
       "        TV  radio  newspaper  Actual sales  Predicted sales  Deviation\n",
       "60   210.7   29.5   2.332144          18.4        18.150269   0.249731\n",
       "6      8.7   48.9   4.330733           7.2        12.961369  -5.761369\n",
       "21   218.4   27.7   3.996364          18.0        18.058153  -0.058153\n",
       "199  283.6   42.0   4.207673          25.5        23.660251   1.839749\n",
       "53   216.4   41.7   3.703768          22.6        20.687510   1.912490"
      ]
     },
     "execution_count": 28,
     "metadata": {},
     "output_type": "execute_result"
    }
   ],
   "source": [
    "new_df[\"Deviation\"]=new_df[\"Actual sales\"]-new_df[\"Predicted sales\"]\n",
    "new_df.to_excel(\"Sales Prediction.xlsx\",header=True,index=True)\n",
    "new_df.head()"
   ]
  },
  {
   "cell_type": "code",
   "execution_count": 29,
   "metadata": {},
   "outputs": [],
   "source": [
    "from sklearn.model_selection import train_test_split\n",
    "\n",
    "#Split the data into test and train\n",
    "X_train, X_test, Y_train, Y_test = train_test_split(X, Y, test_size=0.2,\n",
    "                                                    random_state=10)  \n"
   ]
  },
  {
   "cell_type": "code",
   "execution_count": 30,
   "metadata": {},
   "outputs": [
    {
     "name": "stdout",
     "output_type": "stream",
     "text": [
      "3.3522471725965985\n",
      "[ 0.04374234  0.19302603 -0.04853131]\n"
     ]
    },
    {
     "data": {
      "text/plain": [
       "'\\nprevious values:\\n3.353291385815151\\n[ 0.0437425   0.19303708 -0.04895137]\\n'"
      ]
     },
     "execution_count": 30,
     "metadata": {},
     "output_type": "execute_result"
    }
   ],
   "source": [
    "\n",
    "from sklearn.linear_model import Ridge\n",
    "lm = Ridge()\n",
    "lm.fit(X_train,Y_train)\n",
    "\n",
    "# print intercept and coefficients\n",
    "print (lm.intercept_)\n",
    "print (lm.coef_)\n",
    "\"\"\"\n",
    "previous values:\n",
    "3.353291385815151\n",
    "[ 0.0437425   0.19303708 -0.04895137]\n",
    "\"\"\""
   ]
  },
  {
   "cell_type": "code",
   "execution_count": null,
   "metadata": {},
   "outputs": [],
   "source": []
  },
  {
   "cell_type": "code",
   "execution_count": 31,
   "metadata": {},
   "outputs": [
    {
     "name": "stdout",
     "output_type": "stream",
     "text": [
      "0.8348082644975935\n",
      "2.5929204626839977\n",
      "0.8322798195664342\n"
     ]
    },
    {
     "data": {
      "text/plain": [
       "'\\nPrevious values:\\n0.834801071903532\\n2.59297691109306\\n0.8322725168816474\\n'"
      ]
     },
     "execution_count": 31,
     "metadata": {},
     "output_type": "execute_result"
    }
   ],
   "source": [
    "Y_pred=lm.predict(X_test)\n",
    "\n",
    "from sklearn.metrics import r2_score,mean_squared_error\n",
    "import numpy as np\n",
    "\n",
    "r2=r2_score(Y_test,Y_pred)\n",
    "print(r2)\n",
    "\n",
    "rmse=np.sqrt(mean_squared_error(Y_test,Y_pred))\n",
    "print(rmse)\n",
    "\n",
    "adjusted_r_squared = 1 - (1-r2)*(len(Y)-1)/(len(Y)-X.shape[1]-1)\n",
    "print(adjusted_r_squared)\n",
    "\n",
    "\n",
    "\"\"\"\n",
    "Previous values:\n",
    "0.834801071903532\n",
    "2.59297691109306\n",
    "0.8322725168816474\n",
    "\"\"\""
   ]
  },
  {
   "cell_type": "code",
   "execution_count": 32,
   "metadata": {},
   "outputs": [
    {
     "name": "stdout",
     "output_type": "stream",
     "text": [
      "3.336794058220317\n",
      "[ 0.04362374  0.18766033 -0.        ]\n"
     ]
    }
   ],
   "source": [
    "from sklearn.linear_model import Lasso\n",
    "lm = Lasso()\n",
    "lm.fit(X_train,Y_train)\n",
    "\n",
    "# print intercept and coefficients\n",
    "print (lm.intercept_)\n",
    "print (lm.coef_)\n"
   ]
  },
  {
   "cell_type": "code",
   "execution_count": 33,
   "metadata": {},
   "outputs": [
    {
     "name": "stdout",
     "output_type": "stream",
     "text": [
      "0.8360506658527163\n",
      "2.5831514271094234\n",
      "0.8335412372688292\n"
     ]
    }
   ],
   "source": [
    "Y_pred=lm.predict(X_test)\n",
    "\n",
    "from sklearn.metrics import r2_score,mean_squared_error\n",
    "import numpy as np\n",
    "\n",
    "r2=r2_score(Y_test,Y_pred)\n",
    "print(r2)\n",
    "\n",
    "rmse=np.sqrt(mean_squared_error(Y_test,Y_pred))\n",
    "print(rmse)\n",
    "\n",
    "adjusted_r_squared = 1 - (1-r2)*(len(Y)-1)/(len(Y)-X.shape[1]-1)\n",
    "print(adjusted_r_squared)"
   ]
  },
  {
   "cell_type": "code",
   "execution_count": null,
   "metadata": {},
   "outputs": [],
   "source": []
  },
  {
   "cell_type": "code",
   "execution_count": 34,
   "metadata": {},
   "outputs": [],
   "source": [
    "#OLS-->OLS(Y_train, X_train)\n",
    "#ols-->ols(Y~X1+X2+X3)"
   ]
  },
  {
   "cell_type": "code",
   "execution_count": 35,
   "metadata": {},
   "outputs": [],
   "source": [
    "#fit(X_train, Y_train)-->sklearn\n",
    "#Y~X1+X2+X3,data=df-->statsmodels"
   ]
  },
  {
   "cell_type": "code",
   "execution_count": 36,
   "metadata": {},
   "outputs": [
    {
     "name": "stderr",
     "output_type": "stream",
     "text": [
      "<ipython-input-36-9e36b12f4cac>:4: SettingWithCopyWarning: \n",
      "A value is trying to be set on a copy of a slice from a DataFrame.\n",
      "Try using .loc[row_indexer,col_indexer] = value instead\n",
      "\n",
      "See the caveats in the documentation: https://pandas.pydata.org/pandas-docs/stable/user_guide/indexing.html#returning-a-view-versus-a-copy\n",
      "  new_df[\"sales\"]=Y_train\n"
     ]
    },
    {
     "data": {
      "text/plain": [
       "(160, 4)"
      ]
     },
     "execution_count": 36,
     "metadata": {},
     "output_type": "execute_result"
    }
   ],
   "source": [
    "new_df=pd.DataFrame()\n",
    "new_df=X_train\n",
    "\n",
    "new_df[\"sales\"]=Y_train\n",
    "new_df.shape"
   ]
  },
  {
   "cell_type": "code",
   "execution_count": 37,
   "metadata": {},
   "outputs": [
    {
     "name": "stdout",
     "output_type": "stream",
     "text": [
      "Intercept    3.353291\n",
      "TV           0.043743\n",
      "radio        0.193037\n",
      "newspaper   -0.048951\n",
      "dtype: float64\n",
      "                            OLS Regression Results                            \n",
      "==============================================================================\n",
      "Dep. Variable:                  sales   R-squared:                       0.921\n",
      "Model:                            OLS   Adj. R-squared:                  0.919\n",
      "Method:                 Least Squares   F-statistic:                     605.4\n",
      "Date:                Fri, 05 Feb 2021   Prob (F-statistic):           1.10e-85\n",
      "Time:                        22:01:56   Log-Likelihood:                -276.63\n",
      "No. Observations:                 160   AIC:                             561.3\n",
      "Df Residuals:                     156   BIC:                             573.6\n",
      "Df Model:                           3                                         \n",
      "Covariance Type:            nonrobust                                         \n",
      "==============================================================================\n",
      "                 coef    std err          t      P>|t|      [0.025      0.975]\n",
      "------------------------------------------------------------------------------\n",
      "Intercept      3.3533      0.442      7.578      0.000       2.479       4.227\n",
      "TV             0.0437      0.001     32.516      0.000       0.041       0.046\n",
      "radio          0.1930      0.008     24.946      0.000       0.178       0.208\n",
      "newspaper     -0.0490      0.125     -0.391      0.697      -0.297       0.199\n",
      "==============================================================================\n",
      "Omnibus:                       12.594   Durbin-Watson:                   2.106\n",
      "Prob(Omnibus):                  0.002   Jarque-Bera (JB):               13.403\n",
      "Skew:                          -0.699   Prob(JB):                      0.00123\n",
      "Kurtosis:                       3.237   Cond. No.                         697.\n",
      "==============================================================================\n",
      "\n",
      "Warnings:\n",
      "[1] Standard Errors assume that the covariance matrix of the errors is correctly specified.\n"
     ]
    },
    {
     "data": {
      "text/plain": [
       "'\\n3.3532913858151527\\n[ 0.0437425   0.19303708 -0.04895137]\\n\\n'"
      ]
     },
     "execution_count": 37,
     "metadata": {},
     "output_type": "execute_result"
    }
   ],
   "source": [
    "import statsmodels.formula.api as sm\n",
    "\n",
    "# create a fitted model with all three features\n",
    "lm_model = sm.ols(formula='sales ~ TV + radio + newspaper', data=new_df).fit()\n",
    "\n",
    "# print the coefficients\n",
    "print(lm_model.params)\n",
    "print(lm_model.summary())\n",
    "\n",
    "\"\"\"\n",
    "3.3532913858151527\n",
    "[ 0.0437425   0.19303708 -0.04895137]\n",
    "\n",
    "\"\"\""
   ]
  },
  {
   "cell_type": "code",
   "execution_count": null,
   "metadata": {},
   "outputs": [],
   "source": []
  },
  {
   "cell_type": "code",
   "execution_count": 38,
   "metadata": {},
   "outputs": [
    {
     "name": "stdout",
     "output_type": "stream",
     "text": [
      "0.8348010719035376\n",
      "2.5929769110930163\n",
      "0.8322725168816529\n"
     ]
    }
   ],
   "source": [
    "Y_pred_new=lm_model.predict(X_test)\n",
    "\n",
    "from sklearn.metrics import r2_score,mean_squared_error\n",
    "import numpy as np\n",
    "\n",
    "r2=r2_score(Y_test,Y_pred_new)\n",
    "print(r2)\n",
    "\n",
    "rmse=np.sqrt(mean_squared_error(Y_test,Y_pred_new))\n",
    "print(rmse)\n",
    "\n",
    "adjusted_r_squared = 1 - (1-r2)*(len(Y)-1)/(len(Y)-X.shape[1]-1)\n",
    "print(adjusted_r_squared)"
   ]
  },
  {
   "cell_type": "code",
   "execution_count": 39,
   "metadata": {},
   "outputs": [
    {
     "name": "stdout",
     "output_type": "stream",
     "text": [
      "Intercept    3.217026\n",
      "TV           0.043721\n",
      "radio        0.192425\n",
      "dtype: float64\n",
      "                            OLS Regression Results                            \n",
      "==============================================================================\n",
      "Dep. Variable:                  sales   R-squared:                       0.921\n",
      "Model:                            OLS   Adj. R-squared:                  0.920\n",
      "Method:                 Least Squares   F-statistic:                     912.9\n",
      "Date:                Fri, 05 Feb 2021   Prob (F-statistic):           3.47e-87\n",
      "Time:                        22:01:59   Log-Likelihood:                -276.70\n",
      "No. Observations:                 160   AIC:                             559.4\n",
      "Df Residuals:                     157   BIC:                             568.6\n",
      "Df Model:                           2                                         \n",
      "Covariance Type:            nonrobust                                         \n",
      "==============================================================================\n",
      "                 coef    std err          t      P>|t|      [0.025      0.975]\n",
      "------------------------------------------------------------------------------\n",
      "Intercept      3.2170      0.271     11.855      0.000       2.681       3.753\n",
      "TV             0.0437      0.001     32.616      0.000       0.041       0.046\n",
      "radio          0.1924      0.008     25.462      0.000       0.177       0.207\n",
      "==============================================================================\n",
      "Omnibus:                       12.555   Durbin-Watson:                   2.100\n",
      "Prob(Omnibus):                  0.002   Jarque-Bera (JB):               13.347\n",
      "Skew:                          -0.697   Prob(JB):                      0.00126\n",
      "Kurtosis:                       3.241   Cond. No.                         418.\n",
      "==============================================================================\n",
      "\n",
      "Warnings:\n",
      "[1] Standard Errors assume that the covariance matrix of the errors is correctly specified.\n"
     ]
    }
   ],
   "source": [
    "import statsmodels.formula.api as sm\n",
    "\n",
    "# create a fitted model with two features\n",
    "lm_model = sm.ols(formula='sales ~ TV + radio ', data=new_df).fit()\n",
    "\n",
    "# print the coefficients\n",
    "print(lm_model.params)\n",
    "print(lm_model.summary())"
   ]
  },
  {
   "cell_type": "code",
   "execution_count": 40,
   "metadata": {},
   "outputs": [
    {
     "name": "stdout",
     "output_type": "stream",
     "text": [
      "0.8354496662944217\n",
      "2.587881707737811\n",
      "0.8329310387377037\n"
     ]
    }
   ],
   "source": [
    "Y_pred_new=lm_model.predict(X_test)\n",
    "\n",
    "from sklearn.metrics import r2_score,mean_squared_error\n",
    "import numpy as np\n",
    "\n",
    "r2=r2_score(Y_test,Y_pred_new)\n",
    "print(r2)\n",
    "\n",
    "rmse=np.sqrt(mean_squared_error(Y_test,Y_pred_new))\n",
    "print(rmse)\n",
    "\n",
    "adjusted_r_squared = 1 - (1-r2)*(len(Y)-1)/(len(Y)-X.shape[1]-1)\n",
    "print(adjusted_r_squared)"
   ]
  },
  {
   "cell_type": "code",
   "execution_count": 41,
   "metadata": {},
   "outputs": [
    {
     "data": {
      "text/plain": [
       "Text(0, 0.5, 'Residuals')"
      ]
     },
     "execution_count": 41,
     "metadata": {},
     "output_type": "execute_result"
    },
    {
     "data": {
      "image/png": "[encoded data removed]",
      "text/plain": [
       "<Figure size 864x576 with 1 Axes>"
      ]
     },
     "metadata": {
      "needs_background": "light"
     },
     "output_type": "display_data"
    }
   ],
   "source": [
    "#Assumption: Errors should be random\n",
    "#checked using Residual v/s Fitted plot\n",
    "\n",
    "import matplotlib.pyplot as plt\n",
    "plot_lm_1 = plt.figure(1)\n",
    "plot_lm_1.set_figheight(8)\n",
    "plot_lm_1.set_figwidth(12)\n",
    "\n",
    "# fitted values (need a constant term for intercept)\n",
    "model_fitted_y = lm_model.fittedvalues\n",
    "\n",
    "plot_lm_1.axes[0] = sns.residplot(model_fitted_y, 'sales', data=new_df, lowess=True)\n",
    "\n",
    "plot_lm_1.axes[0].set_title('Residuals vs Fitted')\n",
    "plot_lm_1.axes[0].set_xlabel('Fitted values')\n",
    "plot_lm_1.axes[0].set_ylabel('Residuals')"
   ]
  },
  {
   "cell_type": "code",
   "execution_count": 42,
   "metadata": {},
   "outputs": [
    {
     "data": {
      "image/png": "[encoded data removed]",
      "text/plain": [
       "<Figure size 432x288 with 1 Axes>"
      ]
     },
     "metadata": {
      "needs_background": "light"
     },
     "output_type": "display_data"
    }
   ],
   "source": [
    "#Assumption: Errors should follow a approximate normal distribution\n",
    "#checked using Normal QQ plot\n",
    "\n",
    "res = lm_model.resid\n",
    "import statsmodels.api as stm\n",
    "import scipy.stats as stats\n",
    "fig = stm.qqplot(res,  fit=True, line='45')\n",
    "plt.title('Normal Q-Q')\n",
    "plt.xlabel('Theoretical Quantiles')\n",
    "plt.ylabel('Standardized Residuals')\n",
    "plt.show() "
   ]
  },
  {
   "cell_type": "code",
   "execution_count": 43,
   "metadata": {
    "scrolled": true
   },
   "outputs": [
    {
     "data": {
      "text/plain": [
       "Text(0, 0.5, '$\\\\sqrt{|Standardized Residuals|}$')"
      ]
     },
     "execution_count": 43,
     "metadata": {},
     "output_type": "execute_result"
    },
    {
     "data": {
      "image/png": "[encoded data removed]",
      "text/plain": [
       "<Figure size 864x576 with 1 Axes>"
      ]
     },
     "metadata": {
      "needs_background": "light"
     },
     "output_type": "display_data"
    }
   ],
   "source": [
    "#Assumption: Errors should follow a constant variance-->Homoskedasticity\n",
    "#checked using Scale location plot\n",
    "\n",
    "# normalized residuals\n",
    "model_norm_residuals = lm_model.get_influence().resid_studentized_internal\n",
    "# absolute squared normalized residuals\n",
    "model_norm_residuals_abs_sqrt = np.sqrt(np.abs(model_norm_residuals))\n",
    "\n",
    "plot_lm_3 = plt.figure(3)\n",
    "plot_lm_3.set_figheight(8)\n",
    "plot_lm_3.set_figwidth(12)\n",
    "plt.scatter(model_fitted_y, model_norm_residuals_abs_sqrt, alpha=0.5)\n",
    "sns.regplot(model_fitted_y, model_norm_residuals_abs_sqrt, lowess=True)\n",
    "\n",
    "\n",
    "plot_lm_3.axes[0].set_title('Scale-Location')\n",
    "plot_lm_3.axes[0].set_xlabel('Fitted values')\n",
    "plot_lm_3.axes[0].set_ylabel('$\\sqrt{|Standardized Residuals|}$')"
   ]
  },
  {
   "cell_type": "code",
   "execution_count": null,
   "metadata": {},
   "outputs": [],
   "source": []
  }
 ],
 "metadata": {
  "kernelspec": {
   "display_name": "Python 3",
   "language": "python",
   "name": "python3"
  },
  "language_info": {
   "codemirror_mode": {
    "name": "ipython",
    "version": 3
   },
   "file_extension": ".py",
   "mimetype": "text/x-python",
   "name": "python",
   "nbconvert_exporter": "python",
   "pygments_lexer": "ipython3",
   "version": "3.8.3"
  }
 },
 "nbformat": 4,
 "nbformat_minor": 4
}
